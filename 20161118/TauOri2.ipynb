{
 "metadata": {
  "name": "",
  "signature": "sha256:c5249e01cba07090611fe19521ff296d663d541b95fdd105622e9d96ba438608"
 },
 "nbformat": 3,
 "nbformat_minor": 0,
 "worksheets": [
  {
   "cells": [
    {
     "cell_type": "code",
     "collapsed": false,
     "input": [
      "import matplotlib.pyplot as plt\n",
      "from matplotlib import pyplot\n",
      "import numpy as np\n",
      "import pyfits\n",
      "import math\n",
      "\n",
      "import astropy.io.fits as fits\n",
      "#%matplotlib inline\n",
      "\n",
      "\n",
      "#Abrimos el .fits observamos header\n",
      "hdulist=fits.open('TauOri_2016-11-19_02-54-50_final.fits','readonly', memmap=False)\n",
      "hdulist.info()\n",
      "hdulist.close()\n",
      "hdulist[0].header"
     ],
     "language": "python",
     "metadata": {},
     "outputs": [
      {
       "output_type": "stream",
       "stream": "stdout",
       "text": [
        "Filename: TauOri_2016-11-19_02-54-50_final.fits\n",
        "No.    Name         Type      Cards   Dimensions   Format\n",
        "0    PRIMARY     PrimaryHDU      41   (1024, 41, 11)   float64   \n"
       ]
      },
      {
       "metadata": {},
       "output_type": "pyout",
       "prompt_number": 1,
       "text": [
        "SIMPLE  =                    T / conforms to FITS standard                      \n",
        "BITPIX  =                  -64 / array data type                                \n",
        "NAXIS   =                    3 / number of array dimensions                     \n",
        "NAXIS1  =                 1024                                                  \n",
        "NAXIS2  =                   41                                                  \n",
        "NAXIS3  =                   11                                                  \n",
        "EXTEND  =                    T                                                  \n",
        "DATE-OBS= '2016-11-19T02:54:50'                                                 \n",
        "EXPTIME =                600.0                                                  \n",
        "EXPOSURE=                600.0                                                  \n",
        "SET-TEMP=                -35.0                                                  \n",
        "CCD-TEMP=                -35.0                                                  \n",
        "XPIXSZ  =                 24.0                                                  \n",
        "YPIXSZ  =                 24.0                                                  \n",
        "XBINNING=                    1                                                  \n",
        "YBINNING=                    1                                                  \n",
        "XORGSUBF=                    0                                                  \n",
        "YORGSUBF=                    0                                                  \n",
        "READOUTM= '1MHz High Gain'                                                      \n",
        "IMAGETYP= 'Light Frame'                                                         \n",
        "JD      =    2457711.621412037                                                  \n",
        "FOCALLEN=                  0.0                                                  \n",
        "APTDIA  =                  0.0                                                  \n",
        "APTAREA =                  0.0                                                  \n",
        "SWCREATE= 'MaxIm DL Version 5.15'                                               \n",
        "SBSTDVER= 'SBFITSEXT Version 1.0'                                               \n",
        "OBJECT  = '        '                                                            \n",
        "TELESCOP= '        '                                                            \n",
        "INSTRUME= 'FLI     '                                                            \n",
        "OBSERVER= '        '                                                            \n",
        "NOTES   = '        '                                                            \n",
        "FLIPSTAT= '        '                                                            \n",
        "CSTRETCH= 'Medium  '                                                            \n",
        "CBLACK  =                 2024                                                  \n",
        "CWHITE  =                 3262                                                  \n",
        "PEDESTAL=                    0                                                  \n",
        "SWOWNER = 'MaxIm   '                                                            \n",
        "MJD     =    57711.12488425925                                                  \n",
        "MBJD    =    57711.12488425925                                                  \n",
        "BVEL    =                  0.0                                                  \n",
        "MASK_RV =   -37.77301046986447                                                  "
       ]
      }
     ],
     "prompt_number": 1
    },
    {
     "cell_type": "markdown",
     "metadata": {},
     "source": [
      "The .fits files are data cubes with dimensions (10,nords,npix), where nords are the total number of processed echelle orders, and npix in the number of pixels in the dispersion direction. The ten entries in the first dimension correspond to:\n",
      "\n",
      "0.  Wavelength\n",
      "1.  Extracted Flux\n",
      "2.  Measurement of the error in the extracted flux [1./sqrt(Var)]\n",
      "3.  Blaze corrected Flux\n",
      "4.  Measurement of the error in the blaze corrected flux\n",
      "5.  Continuum normalized flux\n",
      "6.  Measurement of the error in the continuum normalized flux\n",
      "7.  Estimated continuum\n",
      "8.  Signal-to-noise ratio\n",
      "9.  Continumm normalized flux multiplied by the derivative of the wavelength with respect to the pixels\n",
      "10. Corresponding error of the 9th entrance\n",
      "\n",
      "https://github.com/rabrahm/ceres"
     ]
    },
    {
     "cell_type": "code",
     "collapsed": false,
     "input": [
      "#Cargamos cubo de datos. Creamos variables\n",
      "cube_data = pyfits.getdata('TauOri_2016-11-19_02-54-50_final.fits',0)\n",
      "nm=[]\n",
      "flux=[]\n",
      "flux_norm=[]\n",
      "signoise=[]\n",
      "continuum=[]"
     ],
     "language": "python",
     "metadata": {},
     "outputs": [],
     "prompt_number": 34
    },
    {
     "cell_type": "code",
     "collapsed": false,
     "input": [
      "for i in range(41):\n",
      "    nm=cube_data[0][i][:]\n",
      "    flux=cube_data[1][i][:]\n",
      "    plt.plot(nm,flux,linewidth=.5)\n",
      "plt.title('Wavelength vs Flux', fontsize = 20)\n",
      "plt.xlabel('$Wavelength_nm$',fontsize=16)\n",
      "plt.ylabel('$Flux$',fontsize=16)\n",
      "plt.show()"
     ],
     "language": "python",
     "metadata": {},
     "outputs": [],
     "prompt_number": 35
    },
    {
     "cell_type": "code",
     "collapsed": false,
     "input": [
      "for i in range(41):\n",
      "    nm=cube_data[0][i][:]\n",
      "    flux_norm=cube_data[5][i][:]\n",
      "    plt.plot(nm,flux_norm,linewidth=.5)\n",
      "plt.title('Wavelength vs Normalized Flux', fontsize = 20)\n",
      "plt.xlabel('Wavelength Nm',fontsize=16)\n",
      "plt.ylabel('Normalized Flux',fontsize=16)\n",
      "plt.show()   "
     ],
     "language": "python",
     "metadata": {},
     "outputs": [],
     "prompt_number": 36
    },
    {
     "cell_type": "code",
     "collapsed": false,
     "input": [
      "for i in range(41):\n",
      "    nm=cube_data[0][i][:]\n",
      "    signoise=cube_data[8][i][:]\n",
      "    plt.plot(nm,signoise,linewidth=.5)\n",
      "plt.title('Wavelength vs Estimated Signal/Noise', fontsize = 20)\n",
      "plt.xlabel('Wavelength Nm',fontsize=16)\n",
      "plt.ylabel('Estimated Signal/Noise',fontsize=16)\n",
      "plt.show()   "
     ],
     "language": "python",
     "metadata": {},
     "outputs": [],
     "prompt_number": 37
    },
    {
     "cell_type": "code",
     "collapsed": false,
     "input": [
      "for i in range(41):\n",
      "    nm=cube_data[0][i][:]\n",
      "    continuum=cube_data[7][i][:]\n",
      "    plt.plot(nm,continuum,linewidth=.5)\n",
      "plt.title('Wavelength vs Estimated Continuum', fontsize = 20)\n",
      "plt.xlabel('Wavelength Nm',fontsize=16)\n",
      "plt.ylabel('Estimated Continuum',fontsize=16)\n",
      "plt.show()   "
     ],
     "language": "python",
     "metadata": {},
     "outputs": [],
     "prompt_number": 38
    },
    {
     "cell_type": "code",
     "collapsed": false,
     "input": [
      "f2 = open('TauOri_2016-11-19_02-54-50.spec1d.txt', 'r')\n",
      "lines = f2.readlines()\n",
      "f2.close()\n",
      "\n",
      "x1 = []\n",
      "y1 = []\n",
      "\n",
      "for line in lines:\n",
      "    p = line.split()\n",
      "    x1.append(float(p[0]))\n",
      "    y1.append(float(p[1]))  \n",
      "    \n",
      "xv = np.array(x1)\n",
      "yv = np.array(y1)\n",
      "plt.plot(xv, yv)\n",
      "\n",
      "plt.show()"
     ],
     "language": "python",
     "metadata": {},
     "outputs": [],
     "prompt_number": 39
    },
    {
     "cell_type": "code",
     "collapsed": false,
     "input": [
      "normalized_data = pyfits.getdata('TauOri_2016-11-19_02-54-50.spec1d.fits',0)"
     ],
     "language": "python",
     "metadata": {},
     "outputs": [],
     "prompt_number": 40
    },
    {
     "cell_type": "code",
     "collapsed": false,
     "input": [
      "wave=normalized_data[0][:]\n",
      "normalized=normalized_data[1][:]\n",
      "\n",
      "plt.plot(wave,normalized,linewidth=.5)\n",
      "plt.title('Wavelength vs Flux', fontsize = 20)\n",
      "plt.xlabel('$Wavelength_nm$',fontsize=16)\n",
      "plt.ylabel('$Flux$',fontsize=16)\n",
      "plt.show()"
     ],
     "language": "python",
     "metadata": {},
     "outputs": [],
     "prompt_number": 41
    },
    {
     "cell_type": "code",
     "collapsed": false,
     "input": [
      "normalized_data=fits.open('TauOri_2016-11-19_02-54-50.spec1d.fits','readonly', memmap=False)\n",
      "normalized_data.info()\n",
      "normalized_data.close()\n",
      "normalized_data[0].header"
     ],
     "language": "python",
     "metadata": {},
     "outputs": [
      {
       "output_type": "stream",
       "stream": "stdout",
       "text": [
        "Filename: TauOri_2016-11-19_02-54-50.spec1d.fits\n",
        "No.    Name         Type      Cards   Dimensions   Format\n",
        "0    PRIMARY     PrimaryHDU       6   (24793, 3)   float64   \n"
       ]
      },
      {
       "metadata": {},
       "output_type": "pyout",
       "prompt_number": 42,
       "text": [
        "SIMPLE  =                    T / conforms to FITS standard                      \n",
        "BITPIX  =                  -64 / array data type                                \n",
        "NAXIS   =                    2 / number of array dimensions                     \n",
        "NAXIS1  =                24793                                                  \n",
        "NAXIS2  =                    3                                                  \n",
        "EXTEND  =                    T                                                  "
       ]
      }
     ],
     "prompt_number": 42
    },
    {
     "cell_type": "code",
     "collapsed": false,
     "input": [
      "for i in range(41):\n",
      "    nm=cube_data[0][i][:]\n",
      "    flux=cube_data[10][i][:]\n",
      "    plt.plot(nm,flux,linewidth=.5)\n",
      "plt.title('Wavelength vs Flux', fontsize = 20)\n",
      "plt.xlabel('$Wavelength_nm$',fontsize=16)\n",
      "plt.ylabel('$Flux$',fontsize=16)\n",
      "plt.show()"
     ],
     "language": "python",
     "metadata": {},
     "outputs": [],
     "prompt_number": 43
    },
    {
     "cell_type": "code",
     "collapsed": false,
     "input": [
      "#Normalizacion por sectores, distintos ordenes\n",
      "plt.xlabel('Tiempo')\n",
      "plt.ylabel('Flujo')\n",
      "for i in range(41):\n",
      "    nm = cube_data[0][i][:]\n",
      "    flux=cube_data[5][i][:]    \n",
      "    I = np.where(np.isnan(flux)==False)[0]  \n",
      "    plt.plot(nm,flux/np.mean(flux[I]), alpha=0.8,color='red') # Dividimos el flujo por la media de un trozo dado\n",
      "plt.show()"
     ],
     "language": "python",
     "metadata": {},
     "outputs": [],
     "prompt_number": 44
    },
    {
     "cell_type": "code",
     "collapsed": false,
     "input": [
      "normalized_data\n",
      "cube_data = pyfits.getdata('TauOri_2016-11-19_02-54-50_final.fits',0)"
     ],
     "language": "python",
     "metadata": {},
     "outputs": [],
     "prompt_number": 45
    },
    {
     "cell_type": "code",
     "collapsed": false,
     "input": [
      "from astropy.table import Table\n",
      "\n",
      "table = Table.read('TauOri_2016-11-19_02-54-50.spec1d.txt', format='ascii')\n",
      "table"
     ],
     "language": "python",
     "metadata": {},
     "outputs": [
      {
       "html": [
        "&lt;Table length=24793&gt;\n",
        "<table id=\"table2812291148\" class=\"table-striped table-bordered table-condensed\">\n",
        "<thead><tr><th>col1</th><th>col2</th></tr></thead>\n",
        "<thead><tr><th>float64</th><th>float64</th></tr></thead>\n",
        "<tr><td>4237.18099111</td><td>-7.92146078061</td></tr>\n",
        "<tr><td>4237.28521604</td><td>15.3065370047</td></tr>\n",
        "<tr><td>4237.38940524</td><td>-0.249971955803</td></tr>\n",
        "<tr><td>4237.49355874</td><td>0.704311165438</td></tr>\n",
        "<tr><td>4237.59767656</td><td>4.01054880715</td></tr>\n",
        "<tr><td>4237.70175872</td><td>-9.31764204853</td></tr>\n",
        "<tr><td>4237.80580525</td><td>-0.429178260845</td></tr>\n",
        "<tr><td>4237.90981618</td><td>1.96020212199</td></tr>\n",
        "<tr><td>4238.01379152</td><td>4.87616885274</td></tr>\n",
        "<tr><td>4238.1177313</td><td>2.60140909579</td></tr>\n",
        "<tr><td>...</td><td>...</td></tr>\n",
        "<tr><td>7311.59458396</td><td>15.4452364793</td></tr>\n",
        "<tr><td>7311.72487751</td><td>32.2215837258</td></tr>\n",
        "<tr><td>7311.85513939</td><td>27.8711902853</td></tr>\n",
        "<tr><td>7311.98536961</td><td>16.7109550213</td></tr>\n",
        "<tr><td>7312.1155682</td><td>13.7215417959</td></tr>\n",
        "<tr><td>7312.24573517</td><td>12.7935179454</td></tr>\n",
        "<tr><td>7312.37587055</td><td>18.7853031163</td></tr>\n",
        "<tr><td>7312.50597437</td><td>40.2532942307</td></tr>\n",
        "<tr><td>7312.63604663</td><td>17.0485317937</td></tr>\n",
        "<tr><td>7312.76608737</td><td>45.7269660549</td></tr>\n",
        "</table>"
       ],
       "metadata": {},
       "output_type": "pyout",
       "prompt_number": 46,
       "text": [
        "<Table length=24793>\n",
        "     col1           col2     \n",
        "   float64        float64    \n",
        "------------- ---------------\n",
        "4237.18099111  -7.92146078061\n",
        "4237.28521604   15.3065370047\n",
        "4237.38940524 -0.249971955803\n",
        "4237.49355874  0.704311165438\n",
        "4237.59767656   4.01054880715\n",
        "4237.70175872  -9.31764204853\n",
        "4237.80580525 -0.429178260845\n",
        "4237.90981618   1.96020212199\n",
        "4238.01379152   4.87616885274\n",
        " 4238.1177313   2.60140909579\n",
        "          ...             ...\n",
        "7311.59458396   15.4452364793\n",
        "7311.72487751   32.2215837258\n",
        "7311.85513939   27.8711902853\n",
        "7311.98536961   16.7109550213\n",
        " 7312.1155682   13.7215417959\n",
        "7312.24573517   12.7935179454\n",
        "7312.37587055   18.7853031163\n",
        "7312.50597437   40.2532942307\n",
        "7312.63604663   17.0485317937\n",
        "7312.76608737   45.7269660549"
       ]
      }
     ],
     "prompt_number": 46
    },
    {
     "cell_type": "code",
     "collapsed": false,
     "input": [
      "img = np.zeros((len(table)))\n",
      "\n",
      "for col1,col2 in table:             \n",
      "    img[col1] = col2\n",
      "               \n",
      "fits.writeto('TauOriSpectra_2016-11-19_02-54-50.fits', img)"
     ],
     "language": "python",
     "metadata": {},
     "outputs": [
      {
       "output_type": "stream",
       "stream": "stderr",
       "text": [
        "-c:4: VisibleDeprecationWarning: using a non-integer number instead of an integer will result in an error in the future\n"
       ]
      }
     ],
     "prompt_number": 47
    },
    {
     "cell_type": "code",
     "collapsed": false,
     "input": [
      "hdulist=fits.open('TauOriSpectra_2016-11-19_02-54-50.fits','readonly', memmap=False)\n",
      "hdulist.info()\n",
      "hdulist.close()\n",
      "hdulist[0].header"
     ],
     "language": "python",
     "metadata": {},
     "outputs": [
      {
       "output_type": "stream",
       "stream": "stdout",
       "text": [
        "Filename: TauOriSpectra_2016-11-19_02-54-50.fits\n",
        "No.    Name         Type      Cards   Dimensions   Format\n",
        "0    PRIMARY     PrimaryHDU       5   (24793,)     float64   \n"
       ]
      },
      {
       "metadata": {},
       "output_type": "pyout",
       "prompt_number": 48,
       "text": [
        "SIMPLE  =                    T / conforms to FITS standard                      \n",
        "BITPIX  =                  -64 / array data type                                \n",
        "NAXIS   =                    1 / number of array dimensions                     \n",
        "NAXIS1  =                24793                                                  \n",
        "EXTEND  =                    T                                                  "
       ]
      }
     ],
     "prompt_number": 48
    },
    {
     "cell_type": "code",
     "collapsed": false,
     "input": [],
     "language": "python",
     "metadata": {},
     "outputs": []
    }
   ],
   "metadata": {}
  }
 ]
}